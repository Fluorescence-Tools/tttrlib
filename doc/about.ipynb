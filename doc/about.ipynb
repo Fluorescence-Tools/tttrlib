{
 "cells": [
  {
   "cell_type": "markdown",
   "id": "87d6875f-289a-457d-a5f6-c67671e262ab",
   "metadata": {},
   "source": [
    "About us\n",
    "========\n",
    "\n",
    "History\n",
    "-------\n",
    "\n",
    "This project was started in 2019 by Thomas Peulen at the UCSF\n",
    "to integrate fluorescence spectroscopy into the integrative \n",
    "modeling platform. Later that year, Katherina Hemmen started to\n",
    "contribute to project as part of a research project at the\n",
    "Rudulf Virchov Centre (Wuerzburg).\n",
    "\n",
    "In 2020 Thomas Peulen and made the first public release.\n",
    "Since then, several releases have appeared.\n",
    "\n",
    "Authors\n",
    "-------\n",
    "\n",
    "The following people are currently core contributors to scikit-learn's development\n",
    "and maintenance:\n",
    "\n",
    "* Thomas Peulen\n",
    "* Katherina Hemmen\n",
    "\n",
    ".. _citing-tttrlib:\n",
    "\n",
    "Citing tttrlib\n",
    "--------------\n",
    "\n",
    "If you use tttrlib in a scientific publication, we would appreciate\n",
    "citations to the following paper.\n",
    "\n",
    "\n",
    "    Peulen *et al.*, (2023). `tttrlib: A library for time-tagged time-resolved fluorescence and image spectroscopy\n",
    "    <https://joss.theoj.org/papers/xxx>`_. Journal of Open Source Software, X(XX), XXX\n",
    "\n",
    "  Bibtex entry::\n",
    "\n",
    "    @article{tttrlib,\n",
    "     title={tttrlib: A library for time-tagged time-resolved fluorescence and image spectroscopy},\n",
    "     author={Peulen, T.-O. and Hemmen, K. and Sali, A.},\n",
    "     journal={Journal of Open Source Software},\n",
    "     volume={xx},\n",
    "     pages={xxx--xxx},\n",
    "     year={2021}\n",
    "    }\n",
    "\n",
    "\n",
    "License\n",
    "-------\n",
    "\n",
    "tttrlib is released under the open source `BSD-3 license <https://opensource.org/licenses/BSD-3-Clause>`_.\n"
   ]
  }
 ],
 "metadata": {
  "kernelspec": {
   "display_name": "Python 3 (ipykernel)",
   "language": "python",
   "name": "python3"
  },
  "language_info": {
   "codemirror_mode": {
    "name": "ipython",
    "version": 3
   },
   "file_extension": ".py",
   "mimetype": "text/x-python",
   "name": "python",
   "nbconvert_exporter": "python",
   "pygments_lexer": "ipython3",
   "version": "3.9.15"
  }
 },
 "nbformat": 4,
 "nbformat_minor": 5
}
