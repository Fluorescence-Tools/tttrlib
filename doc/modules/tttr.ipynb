{
 "cells": [
  {
   "cell_type": "markdown",
   "id": "ad26476f",
   "metadata": {},
   "source": [
    "# TTTR files"
   ]
  },
  {
   "cell_type": "markdown",
   "id": "5580a454",
   "metadata": {},
   "source": [
    "## Reading\n",
    "\n",
    "TTTR files are read by the `tttrlib` module. To read a tttr file, first the `tttrlib` module needs to be imported. \n",
    "Next, a TTTR object needs to be constructed / created. During the TTTR object construction the content of a tttr \n",
    "file can be read. For that, the file name needs to be passed to the constructure. Moreover, the file type needs \n",
    "to be provided or needs to be inferable. If a TTTR object is created this way, by default, the data contained in \n",
    "the TTTR file is read into the TTTR object. The TTTR file type is either specified by a number or by passing a \n",
    "string to the TTTR object's constructor.\n",
    "\n",
    "Certain file types are infered by the filename, i.e., the ending of the file, e.g., PTU and HT3 files. \n",
    "Other file types, i.e., SPC files require to specify the reading routing, as different file types use the same \n",
    "file ending and the file type cannot be infered. A TTTR object that contains the data in a TTTR file can be \n",
    "initialized by the filename and the data type as specified in above. Both Alternatively, TTTR objects are initialized \n",
    "by the filename and the file type identifier as displayed in the table above. Both approaches are equivalent and \n",
    "demonstrated for the Becker&Hickl SPC-130 and the PicoQuant PTU file supplied in the example folder in the Python \n",
    "code below. If the container type is not specified `tttrlib` will try to infer the container type based on the \n",
    "file extension."
   ]
  },
  {
   "cell_type": "code",
   "execution_count": 1,
   "id": "1cf1704e",
   "metadata": {},
   "outputs": [],
   "source": [
    "import tttrlib\n",
    "\n",
    "# PTU files are identified and file specifics can be determined without\n",
    "# providing detailed file type information\n",
    "ptu = tttrlib.TTTR('./tttr-data/pq/ptu/pq_ptu_hh_t3.ptu')        #   i) infer type\n",
    "ptu = tttrlib.TTTR('./tttr-data/pq/ptu/pq_ptu_hh_t3.ptu', 0)     #  ii) specify type by ID\n",
    "ptu = tttrlib.TTTR('./tttr-data/pq/ptu/pq_ptu_hh_t3.ptu', 'PTU') # iii) specify type by name\n",
    "\n",
    "\n",
    "# SPC files require information on the file type\n",
    "spc132 = tttrlib.TTTR('./tttr-data/bh/bh_spc132.spc', 2)\n",
    "spc132 = tttrlib.TTTR('./tttr-data/bh/bh_spc132.spc', 'SPC-130')"
   ]
  },
  {
   "cell_type": "markdown",
   "id": "a969cd3d",
   "metadata": {},
   "source": [
    "<figure><figcaption><b>Table</b> of supported file types and corresponding identifiers</figcaption> \n",
    "\n",
    "| File type                | Number | Identifier     |\n",
    "|--------------------------|--------|----------------|\n",
    "|PicoQuant, PTU            |0       |'PTU'           |\n",
    "|PicoQuant, HT3            |1       |'HT3'           |\n",
    "|Becker&Hickl, SPC130      |2       |'SPC-130'       |\n",
    "|Becker&Hickl, SPC630-256  |3       |'SPC-630-256'   |\n",
    "|Becker&Hickl, SPC630-4096 |4       |'SPC-630-4096'  |\n",
    "|Photon-HDF5               |5       |'PHOTON-HDF5'   |\n",
    "\n",
    "\n",
    "</figure>\n"
   ]
  },
  {
   "cell_type": "markdown",
   "id": "92ef2aa2-3429-4114-8a42-ea3a50a4bd5d",
   "metadata": {},
   "source": [
    "Beyond opening files and processing the content contained in a TTTR file TTTR objects can be created that contain initially no data. \n",
    "Moreover, TTTR objects can be created based on existing files and selection. On application for empty `TTTR` container are cases where\n",
    "multiple experiments are integrated / combined."
   ]
  },
  {
   "cell_type": "code",
   "execution_count": 3,
   "id": "0bb6a0c4",
   "metadata": {},
   "outputs": [],
   "source": [
    "import tttrlib\n",
    "ptu = tttrlib.TTTR('./tttr-data/pq/ptu/pq_ptu_hh_t3.ptu')"
   ]
  },
  {
   "cell_type": "markdown",
   "id": "673b1d15",
   "metadata": {},
   "source": [
    "This only works for PTU, HT3, and for HDF files. For SPC files the TTTR record types need to be specified. Below is a table with different record types and supported containers."
   ]
  },
  {
   "cell_type": "markdown",
   "id": "ae062a89",
   "metadata": {},
   "source": [
    "\n",
    "\n",
    "| Record type               | Number | Supported container |\n",
    "|----|----|----|\n",
    "|PQ_RECORD_TYPE_HHT2v2      |1       |'PTU', HT2           |\n",
    "|PQ_RECORD_TYPE_HHT2v1      |2       |'PTU', HT2           |\n",
    "|PQ_RECORD_TYPE_HHT3v1      |3       |'PTU', HT3           |\n",
    "|PQ_RECORD_TYPE_HHT3v2      |4       |'PTU', HT3           |\n",
    "|PQ_RECORD_TYPE_PHT3        |5       |'PTU', HT3           |\n",
    "|PQ_RECORD_TYPE_PHT2        |6       |'PTU', HT2           |\n",
    "|BH_RECORD_TYPE_SPC130      |7       |'SPC'                |\n",
    "|BH_RECORD_TYPE_SPC600_256  |8       |'SPC'                |\n",
    "|BH_RECORD_TYPE_SPC600_4096 |9       |'SPC'                |\n"
   ]
  },
  {
   "cell_type": "markdown",
   "id": "d2a26059",
   "metadata": {},
   "source": [
    "For PicoQuant hardware/software the use of PTU files is heavily encouraged. As PTU container / files offer the broadest support of different record types and meta data."
   ]
  },
  {
   "cell_type": "markdown",
   "id": "ed1a2ed5",
   "metadata": {},
   "source": [
    "## Writing TTTR-files"
   ]
  },
  {
   "cell_type": "markdown",
   "id": "f3d90bef-2ccd-4ab5-b148-aa76d07d8ec4",
   "metadata": {},
   "source": [
    "TTTR objects can be writen to files using the method `write` of TTTR objects.\n",
    "\n",
    "```python\n",
    "    import tttrlib\n",
    "    data = tttrlib.TTTR('./data/bh/bh_spc132.spc', 'SPC-130')\n",
    "    data_sliced = data[:10]\n",
    "    output = {\n",
    "        'filename': 'sliced_data.spc'\n",
    "    }\n",
    "    data_sliced.write(**output)\n",
    "```\n",
    "\n",
    "This way, as shown above, data can be sliced into pieces or converted into other\n",
    "data types."
   ]
  },
  {
   "cell_type": "code",
   "execution_count": 2,
   "id": "4e56b802-f488-44b6-9cea-5e021a6bd879",
   "metadata": {},
   "outputs": [],
   "source": [
    "import tttrlib\n",
    "import json\n",
    "data = tttrlib.TTTR('./tttr-data/bh/bh_spc132.spc', 'SPC-130')\n",
    "header = data.header\n",
    "header.tttr_container_type = 0 # PTU\n",
    "header.tttr_record_type = 4 # PQ_RECORD_TYPE_HHT3v2\n",
    "header_dict = {\n",
    "    \"tags\": [\n",
    "        {\"name\": \"MeasDesc_BinningFactor\",\n",
    "         \"idx\": -1,\n",
    "         \"type\": 268435464,\n",
    "         \"value\": 1\n",
    "         },\n",
    "        {\"name\": \"TTResultFormat_BitsPerRecord\",\n",
    "         \"idx\": -1,\n",
    "         \"type\": 268435464,\n",
    "         \"value\": 1\n",
    "         },\n",
    "        {\n",
    "            \"idx\": -1,\n",
    "            \"name\": \"MeasDesc_Resolution\",\n",
    "            \"type\": 536870920,\n",
    "            \"value\": 3.2958984375e-12\n",
    "        },\n",
    "        {\n",
    "            \"idx\": -1,\n",
    "            \"name\": \"MeasDesc_GlobalResolution\",\n",
    "            \"type\": 536870920,\n",
    "            \"value\": 1.35e-08\n",
    "        },\n",
    "        {\n",
    "            \"idx\": -1,\n",
    "            \"name\": \"TTResultFormat_BitsPerRecord\",\n",
    "            \"type\": 268435464,\n",
    "            \"value\": 32\n",
    "        },\n",
    "        {\n",
    "            \"idx\": -1,\n",
    "            \"name\": \"TTResultFormat_TTTRRecType\",\n",
    "            \"type\": 268435464,\n",
    "            \"value\": 0x00010304 # rtHydraHarpT3\n",
    "        }\n",
    "    ]\n",
    "}"
   ]
  },
  {
   "cell_type": "code",
   "execution_count": 3,
   "id": "bd31f9c5-29c3-4d62-a963-06277ba6f729",
   "metadata": {},
   "outputs": [],
   "source": [
    "header.json = json.dumps(header_dict)"
   ]
  },
  {
   "cell_type": "code",
   "execution_count": null,
   "id": "7e29a32c-9473-48eb-b846-3e14e4d5ab98",
   "metadata": {},
   "outputs": [],
   "source": [
    "ptu_file = 'spc_data_converted.ptu'\n",
    "data.write(ptu_file)"
   ]
  },
  {
   "cell_type": "code",
   "execution_count": 4,
   "id": "2d181dd4-6700-4e84-88e4-c4212691b260",
   "metadata": {},
   "outputs": [
    {
     "ename": "NameError",
     "evalue": "name 'ptu_file' is not defined",
     "output_type": "error",
     "traceback": [
      "\u001b[0;31m---------------------------------------------------------------------------\u001b[0m",
      "\u001b[0;31mNameError\u001b[0m                                 Traceback (most recent call last)",
      "Cell \u001b[0;32mIn[4], line 1\u001b[0m\n\u001b[0;32m----> 1\u001b[0m data_ptu \u001b[38;5;241m=\u001b[39m tttrlib\u001b[38;5;241m.\u001b[39mTTTR(\u001b[43mptu_file\u001b[49m)\n",
      "\u001b[0;31mNameError\u001b[0m: name 'ptu_file' is not defined"
     ]
    }
   ],
   "source": [
    "data_ptu = tttrlib.TTTR(ptu_file)"
   ]
  },
  {
   "cell_type": "markdown",
   "id": "6548d84a-9894-44d3-ac34-02adb2c0236f",
   "metadata": {},
   "source": [
    "A TTTR object that was created for instance from a SPC file can be saved as PTU\n",
    "file. For that the header information from a PTU file need to be provided when\n",
    "writing to a file."
   ]
  },
  {
   "cell_type": "markdown",
   "id": "8bade7ec-886f-4689-93c9-0c91fd4421b4",
   "metadata": {},
   "source": [
    "When a TTTR file is writen to another format certain meta data need to be provided. The combination of tttr_container_type and tttr_record_type determines of the header determines the ouput format of the TTTR writer method.\n",
    "\n",
    "For PTU files at least the instrument and the measurement mode (T2, T3) need to be provided."
   ]
  },
  {
   "cell_type": "markdown",
   "id": "b13a1020",
   "metadata": {},
   "source": [
    "```cpp\n",
    "#define rtPicoHarpT3     0x00010303    // (SubID = $00 ,RecFmt: $01) (V1), T-Mode: $03 (T3), HW: $03 (PicoHarp)\n",
    "#define rtPicoHarpT2     0x00010203    // (SubID = $00 ,RecFmt: $01) (V1), T-Mode: $02 (T2), HW: $03 (PicoHarp)\n",
    "#define rtHydraHarpT3    0x00010304    // (SubID = $00 ,RecFmt: $01) (V1), T-Mode: $03 (T3), HW: $04 (HydraHarp)\n",
    "#define rtHydraHarpT2    0x00010204    // (SubID = $00 ,RecFmt: $01) (V1), T-Mode: $02 (T2), HW: $04 (HydraHarp)\n",
    "#define rtHydraHarp2T3   0x01010304    // (SubID = $01 ,RecFmt: $01) (V2), T-Mode: $03 (T3), HW: $04 (HydraHarp)\n",
    "#define rtHydraHarp2T2   0x01010204    // (SubID = $01 ,RecFmt: $01) (V2), T-Mode: $02 (T2), HW: $04 (HydraHarp)\n",
    "#define rtTimeHarp260NT3 0x00010305    // (SubID = $00 ,RecFmt: $01) (V2), T-Mode: $03 (T3), HW: $05 (TimeHarp260N)\n",
    "#define rtTimeHarp260NT2 0x00010205    // (SubID = $00 ,RecFmt: $01) (V2), T-Mode: $02 (T2), HW: $05 (TimeHarp260N)\n",
    "#define rtTimeHarp260PT3 0x00010306    // (SubID = $00 ,RecFmt: $01) (V1), T-Mode: $02 (T3), HW: $06 (TimeHarp260P)\n",
    "#define rtTimeHarp260PT2 0x00010206    // (SubID = $00 ,RecFmt: $01) (V1), T-Mode: $02 (T2), HW: $06 (TimeHarp260P)\n",
    "#define rtMultiHarpNT3   0x00010307    // (SubID = $00 ,RecFmt: $01) (V1), T-Mode: $02 (T3), HW: $07 (MultiHarp150N)\n",
    "#define rtMultiHarpNT2   0x00010207    // (SubID = $00 ,RecFmt: $01) (V1), T-Mode: $02 (T2), HW: $07 (MultiHarp150N)\n",
    "```\n",
    "\n",
    "The types of the meta data follows the PTU file convention.\n",
    "\n",
    "```cpp\n",
    "#define tyEmpty8      0xFFFF0008\n",
    "#define tyBool8       0x00000008\n",
    "#define tyInt8        0x10000008\n",
    "#define tyBitSet64    0x11000008\n",
    "#define tyColor8      0x12000008\n",
    "#define tyFloat8      0x20000008\n",
    "#define tyTDateTime   0x21000008\n",
    "#define tyFloat8Array 0x2001FFFF\n",
    "#define tyAnsiString  0x4001FFFF\n",
    "#define tyWideString  0x4002FFFF\n",
    "#define tyBinaryBlob  0xFFFFFFFF\n",
    "```\n",
    "\n",
    "Writing manually correct and functional header files can be tedious. Hence tttrlib\n",
    "offers the option to use header information and headers of other TTTR files.\n",
    "\n",
    "```python\n",
    "import tttrlib\n",
    "data = tttrlib.TTTR('./data/bh/bh_spc132.spc', 'SPC-130')\n",
    "ptu_header = tttrlib.TTTRHeader('./data/pq/pq_ptu_hh_t3.ptu')\n",
    "output = {\n",
    "    'filename': 'spc_data_converted.ptu',\n",
    "    'header': ptu_header\n",
    "}\n",
    "data.write(**output)\n",
    "```\n",
    "\n",
    "\n",
    "> The different TTTR container formats are not fully compatible. Hence, it can\n",
    "happen that certain information that is for instance stored in the header is\n",
    "lost when converting and saving data. For instance, BH 130 SPC files can hold\n",
    "up to 4096 micro time channels, while PQ-PTU files hold up to 32768 micro time\n",
    "channels.\n"
   ]
  },
  {
   "cell_type": "code",
   "execution_count": null,
   "id": "298cf9fa-2a23-4d61-8343-c611f80904d1",
   "metadata": {},
   "outputs": [],
   "source": []
  }
 ],
 "metadata": {
  "kernelspec": {
   "display_name": "Python 3 (ipykernel)",
   "language": "python",
   "name": "python3"
  },
  "language_info": {
   "codemirror_mode": {
    "name": "ipython",
    "version": 3
   },
   "file_extension": ".py",
   "mimetype": "text/x-python",
   "name": "python",
   "nbconvert_exporter": "python",
   "pygments_lexer": "ipython3",
   "version": "3.9.15"
  }
 },
 "nbformat": 4,
 "nbformat_minor": 5
}
