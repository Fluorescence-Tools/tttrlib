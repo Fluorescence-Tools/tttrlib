{
 "cells": [
  {
   "cell_type": "markdown",
   "id": "ad26476f",
   "metadata": {
    "tags": []
   },
   "source": [
    "# TTTR files"
   ]
  },
  {
   "cell_type": "markdown",
   "id": "a80247e9-ae86-47e0-8ab0-0b251c93f80b",
   "metadata": {},
   "source": [
    "## Reading\n",
    "\n",
    "A TTTR file usually containts meta data stored in a header and a set of events that can for instance represent a set of sequentially detected photons. TTTR files are read by the `tttrlib` module which first needs to be imported."
   ]
  },
  {
   "cell_type": "code",
   "execution_count": 26,
   "id": "d1d8e0ff-7912-47bc-b929-ddb9fd60217a",
   "metadata": {},
   "outputs": [],
   "source": [
    "import tttrlib"
   ]
  },
  {
   "cell_type": "markdown",
   "id": "8313b197-2bb4-468f-bf92-2d3a4ce11fb2",
   "metadata": {},
   "source": [
    "Next, a TTTR object needs to be constructed. The TTTR object constructor can read the content of a tttr \n",
    "file. For that, the file name needs to be passed to the constructure. Moreover, the file type needs \n",
    "to be either provided or needs to be inferable. The file type is either specified by a number or by passing a \n",
    "string to the TTTR object's constructor."
   ]
  },
  {
   "cell_type": "code",
   "execution_count": 27,
   "id": "1cf1704e",
   "metadata": {},
   "outputs": [],
   "source": [
    "ptu = tttrlib.TTTR('./tttr-data/pq/ptu/pq_ptu_hh_t3.ptu', 0)     #  i) specify type by ID\n",
    "ptu = tttrlib.TTTR('./tttr-data/pq/ptu/pq_ptu_hh_t3.ptu', 'PTU') # ii) specify type by name"
   ]
  },
  {
   "cell_type": "markdown",
   "id": "2da40eea-f06e-4a53-abe5-a76649437345",
   "metadata": {},
   "source": [
    "File types, identifier and and the corresponding names are listed below. File types that where the reading routine needs to be specified are marked with an x."
   ]
  },
  {
   "cell_type": "markdown",
   "id": "a969cd3d",
   "metadata": {},
   "source": [
    "<figure><figcaption><b>Table</b> of supported file types and corresponding identifiers</figcaption> \n",
    "\n",
    "| File type                | Number | Identifier     | Required\n",
    "|--------------------------|--------|----------------|---------\n",
    "|PicoQuant, PTU            |0       |'PTU'           | -\n",
    "|PicoQuant, HT3            |1       |'HT3'           | -\n",
    "|Becker&Hickl, SPC130      |2       |'SPC-130'       | x\n",
    "|Becker&Hickl, SPC630-256  |3       |'SPC-630-256'   | x\n",
    "|Becker&Hickl, SPC630-4096 |4       |'SPC-630-4096'  | x\n",
    "|Photon-HDF5               |5       |'PHOTON-HDF5'   | - \n",
    "\n",
    "</figure>\n"
   ]
  },
  {
   "cell_type": "markdown",
   "id": "4269c01e-d144-4390-a8ae-dfef39f29640",
   "metadata": {},
   "source": [
    "A TTTR file represents a collection of events with corresponding event records. Different file types use different encodings for events and require thus different reading routines."
   ]
  },
  {
   "cell_type": "markdown",
   "id": "ae062a89",
   "metadata": {},
   "source": [
    "\n",
    "\n",
    "| Record type               | Number | Supported container |\n",
    "|----|----|----|\n",
    "|PQ_RECORD_TYPE_HHT2v2      |1       |PTU, HT2           |\n",
    "|PQ_RECORD_TYPE_HHT2v1      |2       |PTU, HT2           |\n",
    "|PQ_RECORD_TYPE_HHT3v1      |3       |PTU, HT3           |\n",
    "|PQ_RECORD_TYPE_HHT3v2      |4       |PTU, HT3           |\n",
    "|PQ_RECORD_TYPE_PHT3        |5       |PTU, HT3           |\n",
    "|PQ_RECORD_TYPE_PHT2        |6       |PTU, HT2           |\n",
    "|BH_RECORD_TYPE_SPC130      |7       |SPC                |\n",
    "|BH_RECORD_TYPE_SPC600_256  |8       |SPC                |\n",
    "|BH_RECORD_TYPE_SPC600_4096 |9       |SPC                |\n"
   ]
  },
  {
   "cell_type": "markdown",
   "id": "673b1d15",
   "metadata": {},
   "source": [
    "For certain file types details on the TTTR record types can be determined the record type can be infered. Such files can be read without providing the type."
   ]
  },
  {
   "cell_type": "code",
   "execution_count": 24,
   "id": "0a01e636-25ea-4302-83ac-5e5b97157b2c",
   "metadata": {},
   "outputs": [],
   "source": [
    "ptu = tttrlib.TTTR('./tttr-data/pq/ptu/pq_ptu_hh_t3.ptu')        #  iii) infer type"
   ]
  },
  {
   "cell_type": "markdown",
   "id": "819e6a8a-0b8b-4377-8fcc-6eb1dfd34fa9",
   "metadata": {},
   "source": [
    "Other file types require to specify the reading routing, as different file types use the same \n",
    "file ending and the file type cannot be infered. A TTTR object that contains the data in a TTTR file can be \n",
    "initialized by the filename and the data type as specified in above. Both Alternatively, TTTR objects are initialized \n",
    "by the filename and the file type identifier as displayed in the table above. Both approaches are equivalent and \n",
    "demonstrated for the Becker&Hickl SPC-130 and the PicoQuant PTU file supplied in the example folder in the Python \n",
    "code below. If the container type is not specified `tttrlib` will try to infer the container type based on the \n",
    "file extension."
   ]
  },
  {
   "cell_type": "markdown",
   "id": "22219232-fae6-46e2-9c5c-ca8e4614f73a",
   "metadata": {},
   "source": [
    "SPC files require information on the file type."
   ]
  },
  {
   "cell_type": "code",
   "execution_count": 25,
   "id": "72833014-133a-4d38-a0c2-255a23c4215b",
   "metadata": {},
   "outputs": [],
   "source": [
    "spc132 = tttrlib.TTTR('./tttr-data/bh/bh_spc132.spc', 2)\n",
    "spc132 = tttrlib.TTTR('./tttr-data/bh/bh_spc132.spc', 'SPC-130')"
   ]
  },
  {
   "cell_type": "markdown",
   "id": "92ef2aa2-3429-4114-8a42-ea3a50a4bd5d",
   "metadata": {},
   "source": [
    "TTTR objects can be also be created withou data. On application for empty `TTTR` container are cases where\n",
    "multiple experiments are integrated / combined."
   ]
  },
  {
   "cell_type": "markdown",
   "id": "99b55304-59da-4168-bd44-0ed1b438ad72",
   "metadata": {},
   "source": [
    "# Header\n",
    "\n",
    "Example how to read and write header"
   ]
  },
  {
   "cell_type": "markdown",
   "id": "fd4e5911-c29b-43e5-8c9e-6e015eedcda9",
   "metadata": {
    "tags": []
   },
   "source": [
    "# Operations"
   ]
  },
  {
   "cell_type": "code",
   "execution_count": null,
   "id": "f5a73340-edc1-45dc-bb1a-f46c4b07c70d",
   "metadata": {},
   "outputs": [],
   "source": [
    "import tttrlib \n",
    "data = tttrlib.TTTR('./tttr-data/bh/bh_spc132.spc', 'SPC-130')"
   ]
  },
  {
   "cell_type": "markdown",
   "id": "3931a325-e2e7-4105-b72d-61ed8c704f34",
   "metadata": {},
   "source": [
    "## Slicing\n",
    "\n",
    "New TTTR objects can be created by slicing existing objects, if you are\n",
    "interested a subset of the data."
   ]
  },
  {
   "cell_type": "code",
   "execution_count": 23,
   "id": "b8837089-3dc2-4782-963d-73edc568a243",
   "metadata": {},
   "outputs": [
    {
     "name": "stdout",
     "output_type": "stream",
     "text": [
      "Number of events in file: 183657\n",
      "Number of events in selection: 10\n"
     ]
    }
   ],
   "source": [
    "import tttrlib \n",
    "data = tttrlib.TTTR('./tttr-data/bh/bh_spc132.spc', 'SPC-130')\n",
    "data_sliced = data[:10]\n",
    "\n",
    "print(\"Number of events in file:\", len(data))\n",
    "print(\"Number of events in selection:\", len(data_sliced))"
   ]
  },
  {
   "cell_type": "markdown",
   "id": "5c765b80-e8d8-4499-a3e3-ac532574bb63",
   "metadata": {},
   "source": [
    "A slice of a ``TTTR`` object creates a copy, i.e., the routing channel, the\n",
    "macro, and the micro times are copied including the header information."
   ]
  },
  {
   "cell_type": "markdown",
   "id": "69856286-bb37-4f17-b015-657460be3711",
   "metadata": {},
   "source": [
    "## Joining TTTRs\n",
    "`TTTR` objects can be joined either by the append method or by using the `+`\n",
    "operator."
   ]
  },
  {
   "cell_type": "code",
   "execution_count": null,
   "id": "ad146ec3-dfc7-40b7-a679-3dcfd926a241",
   "metadata": {},
   "outputs": [],
   "source": [
    "data = tttrlib.TTTR('./tttr-data/bh/bh_spc132.spc', 'SPC-130')\n",
    "d2 = data.append(\n",
    "    other=data,\n",
    "    shift_macro_time=True,\n",
    "    macro_time_offset=0\n",
    ")"
   ]
  },
  {
   "cell_type": "code",
   "execution_count": null,
   "id": "474a4406-81d3-44cc-afab-4e406ae219e2",
   "metadata": {},
   "outputs": [],
   "source": [
    "d3 = data + data\n",
    "len(d2) == 2 * len(data)\n",
    "len(d3) == len(d2)"
   ]
  },
  {
   "cell_type": "markdown",
   "id": "63cd313f-eed0-41a5-8e8d-5b6e0b409cc6",
   "metadata": {},
   "source": [
    "If ``shift_macro_time`` is set to True, which is the default, the macro times of the\n",
    "data that are offset by the last macro time record in the first set in addition to\n",
    "the value specified by ``macro_time_offset``. The parameter ``macro_time_offset``\n",
    "is set to zero by default.\n",
    "\n",
    "By appending TTTR objects to each other data that is splitted into multiple files\n",
    "can be joined into a single TTTR object as follows"
   ]
  },
  {
   "cell_type": "code",
   "execution_count": null,
   "id": "ed41d81a-f1b2-4cf3-8a85-4849b9378af7",
   "metadata": {},
   "outputs": [],
   "source": [
    "import os\n",
    "files = glob.glob('./data/bh/bh_spc132_smDNA/*.spc')\n",
    "sorted(glob.glob('*.spc'), key=os.path.getmtime)\n",
    "data = tttrlib.TTTR(files[0], 'SPC-130')\n",
    "for d in files[1:]:\n",
    "    data.append(tttrlib.TTTR(d, 'SPC-130'))"
   ]
  },
  {
   "cell_type": "markdown",
   "id": "51fc377e-8478-42a0-96e4-739616159a28",
   "metadata": {},
   "source": [
    "> In practice, take care that the files are ordered. The code above stiches the objects in the order as returned by the `glob` module. The glob module finds all the pathnames matching a specified pattern according to the rules used by the Unix shell, although results are returned in arbitrary order. Hence, we sort the data by creating time first. In case you need another ordering, e.g., lexical ordering adapt the code."
   ]
  },
  {
   "cell_type": "code",
   "execution_count": null,
   "id": "386683c5-50fb-4b31-979a-a4345531baa5",
   "metadata": {},
   "outputs": [],
   "source": [
    "shift_macro_time\n",
    "\n",
    "get_used_routing_channels"
   ]
  },
  {
   "cell_type": "markdown",
   "id": "71cba336-5be3-4d96-93d5-d7a3c99098bb",
   "metadata": {},
   "source": [
    "## Attributes"
   ]
  },
  {
   "cell_type": "markdown",
   "id": "ffca0e98-3fcf-42e1-9a63-3d082382a8c5",
   "metadata": {},
   "source": [
    "## Microtime histograms"
   ]
  },
  {
   "cell_type": "code",
   "execution_count": 16,
   "id": "92f8e77f-7349-4070-a7ed-cc5117c6bc0b",
   "metadata": {},
   "outputs": [],
   "source": [
    "import tttrlib \n",
    "import matplotlib.pylab as plt"
   ]
  },
  {
   "cell_type": "code",
   "execution_count": 17,
   "id": "2a9daa6c-c3d8-4551-b08e-71e00366528c",
   "metadata": {},
   "outputs": [
    {
     "data": {
      "text/plain": [
       "[<matplotlib.lines.Line2D at 0x7ff430ce6820>]"
      ]
     },
     "execution_count": 17,
     "metadata": {},
     "output_type": "execute_result"
    },
    {
     "data": {
      "image/png": "[encoded data removed]",
      "text/plain": [
       "<Figure size 640x480 with 1 Axes>"
      ]
     },
     "metadata": {},
     "output_type": "display_data"
    }
   ],
   "source": [
    "data = tttrlib.TTTR('./tttr-data/bh/bh_spc132.spc', 'SPC-130')\n",
    "y, x = data.microtime_histogram\n",
    "plt.semilogy(x, y)"
   ]
  },
  {
   "cell_type": "code",
   "execution_count": 18,
   "id": "6135dd39-72a4-4b63-8d09-3f361a39619a",
   "metadata": {},
   "outputs": [
    {
     "data": {
      "text/plain": [
       "[<matplotlib.lines.Line2D at 0x7ff430b4b190>]"
      ]
     },
     "execution_count": 18,
     "metadata": {},
     "output_type": "execute_result"
    },
    {
     "data": {
      "image/png": "[encoded data removed]",
      "text/plain": [
       "<Figure size 640x480 with 1 Axes>"
      ]
     },
     "metadata": {},
     "output_type": "display_data"
    }
   ],
   "source": [
    "y, x = data.get_microtime_histogram(8)\n",
    "plt.semilogy(x, y)"
   ]
  },
  {
   "cell_type": "markdown",
   "id": "31b59201-62fa-4b52-82f9-f5e799fa180b",
   "metadata": {},
   "source": [
    "\n",
    "\n",
    "Selections\n",
    "==========\n",
    "A defining feature of TTTR data is that subsets can be selected and defined for\n",
    "more detailed analysis. This is for instance exploited in single-molecule experimetns\n",
    "There are different methods to access subsets of a TTTR object that are described\n",
    "in this section.\n",
    "\n",
    "Using selections\n",
    "----------------\n",
    "There is a set of functions and methods to select subsets of TTTR objects.\n",
    "Beyond the the array processing capabilities either provided by the high-level\n",
    "programming language or an library like `NumPy <http://www.numpy.org/>`_, ``tttrlib``\n",
    "offers a set of functions and methods to select a subset of the data contained\n",
    "in a TTTR file. There are two options to get selection for a subset of the data\n",
    "\n",
    "    1. By *ranges*\n",
    "    2. By *selection*\n",
    "\n",
    "*Ranges* are lists of tuples marking the beginning and the end of a range.\n",
    "*Selections* are list of integers, where the integers refer to the indices\n",
    "of the event stream that was selected.\n",
    "\n",
    "\n",
    "For instance, for the sequence of time events displayed in the following table\n",
    "\n",
    "+--------+---+---+---+---+---+---+---+---+---+---+\n",
    "|index   |0  |1  |2  |3  |4  |5  |6  |7  |8  |9  |\n",
    "+--------+---+---+---+---+---+---+---+---+---+---+\n",
    "|time    |1  |12 |13 |14 |15 |18 |20 |23 |30 |32 |\n",
    "+--------+---+---+---+---+---+---+---+---+---+---+\n",
    "\n",
    "the selection (1, 3, 5, 7) yields::\n",
    "\n",
    "    12, 14, 18, 23\n",
    "\n",
    "and the ranges (0, 2) and (7, 9) yield::\n",
    "\n",
    "    (1, 12, 13), (23, 30, 32)\n",
    "\n",
    "Depending on the specific application either ranges or selections are more useful.\n",
    "For instance, single molecule bursts are usually defined by *ranges*, while detection\n",
    "channels are usually selected by *selections*.\n",
    "\n",
    "Channel selections\n",
    "------------------\n",
    "A very typical use case in TCSPC experiments (either in fluorescence lifetime\n",
    "microscopy (FLIM) or multiparameteric fluorescence detection (MFD)) is to select\n",
    "a subset of the registered events based on the detection channel. The experimental\n",
    "example data provided by the file ``./examples/bh/bh_spc132.spc`` four detectors\n",
    "were used to register the fluorescence signal with two polarizations in a 'green'\n",
    "and 'red' spectral range. In the example file the detector numbers for the green\n",
    "fluorescence were (0, 8) and (1, 9) for the red detection window.\n",
    "\n",
    "The method 'get_selection_by_channel' provides an array that contains the indices\n",
    "of the events when a the channel equals the channel number of the provided\n",
    "arguments. To obtain the indices where the channel number. In the example below\n",
    "the indices of the green (channel = 0 or channel = 8) and the indeces of the red\n",
    "(channel = 1 or channel = 9) are saved in the variables ``green_indices``  and\n",
    "``red_indices``, respectively.\n",
    "\n",
    ".. code-block:: python\n",
    "\n",
    "    import numpy as np\n",
    "    import tttrlib\n",
    "\n",
    "    data = tttrlib.TTTR('./examples/bh/bh_spc132.spc', 'SPC-130')\n",
    "\n",
    "    green_indices = data.get_selection_by_channel([0, 8])\n",
    "    red_indices = data.get_selection_by_channel([1, 9])\n",
    "\n",
    "This examples needs to be adapted to the channel assignment dependent on the actual\n",
    "experimental setup.\n",
    "\n",
    "Selections can be made by channel with such a selection a new `TTTR` object can\n",
    "be created.\n",
    "\n",
    ".. code-block:: python\n",
    "\n",
    "        data = tttrlib.TTTR('./data/bh/bh_spc132.spc', 'SPC-130')\n",
    "        ch1_indeces = data.get_selection_by_channel([8])\n",
    "        data_ch1 = tttrlib.TTTR(data, ch1_indeces)\n",
    "        # alternatively\n",
    "        data_ch1 = data[ch1_indeces]\n",
    "\n",
    "The `TTTR` object can be operated on normally.\n",
    "\n",
    "Count rate selections\n",
    "---------------------\n",
    "Another very common selection is based on the count rate. The count rate is\n",
    "determined by the number of detected events within a given time window. The\n",
    "selection by the method ``get_selection_by_count_rate`` returns all indices where\n",
    "less photons were detected within a specified time window. The time window is\n",
    "given by the number of macro time steps.\n",
    "\n",
    ".. code-block:: python\n",
    "\n",
    "    import numpy as np\n",
    "    import tttrlib\n",
    "    data = tttrlib.TTTR('./examples/bh/bh_spc132.spc', 'SPC-130')\n",
    "    cr_selection = data.get_time_window_ranges(1, 30)\n",
    "\n",
    "In the example shown above, the time window is 1200000 and 30 is the maximum\n",
    "number of photons within that is permitted in a time window.\n",
    "\n",
    "Such count rate selections are for instance used to detect bursts in single molecule\n",
    "experiments or to generate filters for advanced FCS analysis :cite:`laurence2004`\n",
    "(see also :ref:`Correlation:Count rate filer` and :ref:`Single Molecule:Burst selection`).\n"
   ]
  },
  {
   "cell_type": "markdown",
   "id": "a4fdfbcf-f5d5-4deb-8669-69e948a0c71f",
   "metadata": {},
   "source": [
    "\n",
    "TTTR ranges\n",
    "===========\n",
    "\n",
    "Compute mean fluorescence lifetimes\n",
    "shift_macro_time\n",
    "get_used_routing_channels\n",
    "Compute mean fluorescence lifetimes"
   ]
  },
  {
   "cell_type": "markdown",
   "id": "ed1a2ed5",
   "metadata": {},
   "source": [
    "## Writing TTTR-files"
   ]
  },
  {
   "cell_type": "markdown",
   "id": "f3d90bef-2ccd-4ab5-b148-aa76d07d8ec4",
   "metadata": {},
   "source": [
    "TTTR objects can be writen to files using the method `write` of TTTR objects.\n",
    "\n",
    "```python\n",
    "    import tttrlib\n",
    "    data = tttrlib.TTTR('./data/bh/bh_spc132.spc', 'SPC-130')\n",
    "    data_sliced = data[:10]\n",
    "    output = {\n",
    "        'filename': 'sliced_data.spc'\n",
    "    }\n",
    "    data_sliced.write(**output)\n",
    "```\n",
    "\n",
    "This way, as shown above, data can be sliced into pieces or converted into other\n",
    "data types."
   ]
  },
  {
   "cell_type": "code",
   "execution_count": 2,
   "id": "4e56b802-f488-44b6-9cea-5e021a6bd879",
   "metadata": {},
   "outputs": [],
   "source": [
    "import tttrlib\n",
    "import json\n",
    "data = tttrlib.TTTR('./tttr-data/bh/bh_spc132.spc', 'SPC-130')\n",
    "header = data.header\n",
    "header.tttr_container_type = 0 # PTU\n",
    "header.tttr_record_type = 4 # PQ_RECORD_TYPE_HHT3v2\n",
    "header_dict = {\n",
    "    \"tags\": [\n",
    "        {\"name\": \"MeasDesc_BinningFactor\",\n",
    "         \"idx\": -1,\n",
    "         \"type\": 268435464,\n",
    "         \"value\": 1\n",
    "         },\n",
    "        {\"name\": \"TTResultFormat_BitsPerRecord\",\n",
    "         \"idx\": -1,\n",
    "         \"type\": 268435464,\n",
    "         \"value\": 1\n",
    "         },\n",
    "        {\n",
    "            \"idx\": -1,\n",
    "            \"name\": \"MeasDesc_Resolution\",\n",
    "            \"type\": 536870920,\n",
    "            \"value\": 3.2958984375e-12\n",
    "        },\n",
    "        {\n",
    "            \"idx\": -1,\n",
    "            \"name\": \"MeasDesc_GlobalResolution\",\n",
    "            \"type\": 536870920,\n",
    "            \"value\": 1.35e-08\n",
    "        },\n",
    "        {\n",
    "            \"idx\": -1,\n",
    "            \"name\": \"TTResultFormat_BitsPerRecord\",\n",
    "            \"type\": 268435464,\n",
    "            \"value\": 32\n",
    "        },\n",
    "        {\n",
    "            \"idx\": -1,\n",
    "            \"name\": \"TTResultFormat_TTTRRecType\",\n",
    "            \"type\": 268435464,\n",
    "            \"value\": 0x00010304 # rtHydraHarpT3\n",
    "        }\n",
    "    ]\n",
    "}"
   ]
  },
  {
   "cell_type": "code",
   "execution_count": 3,
   "id": "bd31f9c5-29c3-4d62-a963-06277ba6f729",
   "metadata": {},
   "outputs": [],
   "source": [
    "header.json = json.dumps(header_dict)"
   ]
  },
  {
   "cell_type": "code",
   "execution_count": null,
   "id": "7e29a32c-9473-48eb-b846-3e14e4d5ab98",
   "metadata": {},
   "outputs": [],
   "source": [
    "ptu_file = 'spc_data_converted.ptu'\n",
    "data.write(ptu_file)"
   ]
  },
  {
   "cell_type": "code",
   "execution_count": 4,
   "id": "2d181dd4-6700-4e84-88e4-c4212691b260",
   "metadata": {},
   "outputs": [
    {
     "ename": "NameError",
     "evalue": "name 'ptu_file' is not defined",
     "output_type": "error",
     "traceback": [
      "\u001b[0;31m---------------------------------------------------------------------------\u001b[0m",
      "\u001b[0;31mNameError\u001b[0m                                 Traceback (most recent call last)",
      "Cell \u001b[0;32mIn[4], line 1\u001b[0m\n\u001b[0;32m----> 1\u001b[0m data_ptu \u001b[38;5;241m=\u001b[39m tttrlib\u001b[38;5;241m.\u001b[39mTTTR(\u001b[43mptu_file\u001b[49m)\n",
      "\u001b[0;31mNameError\u001b[0m: name 'ptu_file' is not defined"
     ]
    }
   ],
   "source": [
    "data_ptu = tttrlib.TTTR(ptu_file)"
   ]
  },
  {
   "cell_type": "markdown",
   "id": "6548d84a-9894-44d3-ac34-02adb2c0236f",
   "metadata": {},
   "source": [
    "A TTTR object that was created for instance from a SPC file can be saved as PTU\n",
    "file. For that the header information from a PTU file need to be provided when\n",
    "writing to a file."
   ]
  },
  {
   "cell_type": "markdown",
   "id": "8bade7ec-886f-4689-93c9-0c91fd4421b4",
   "metadata": {},
   "source": [
    "When a TTTR file is writen to another format certain meta data need to be provided. The combination of tttr_container_type and tttr_record_type determines of the header determines the ouput format of the TTTR writer method.\n",
    "\n",
    "For PTU files at least the instrument and the measurement mode (T2, T3) need to be provided."
   ]
  },
  {
   "cell_type": "markdown",
   "id": "b13a1020",
   "metadata": {},
   "source": [
    "```cpp\n",
    "#define rtPicoHarpT3     0x00010303    // (SubID = $00 ,RecFmt: $01) (V1), T-Mode: $03 (T3), HW: $03 (PicoHarp)\n",
    "#define rtPicoHarpT2     0x00010203    // (SubID = $00 ,RecFmt: $01) (V1), T-Mode: $02 (T2), HW: $03 (PicoHarp)\n",
    "#define rtHydraHarpT3    0x00010304    // (SubID = $00 ,RecFmt: $01) (V1), T-Mode: $03 (T3), HW: $04 (HydraHarp)\n",
    "#define rtHydraHarpT2    0x00010204    // (SubID = $00 ,RecFmt: $01) (V1), T-Mode: $02 (T2), HW: $04 (HydraHarp)\n",
    "#define rtHydraHarp2T3   0x01010304    // (SubID = $01 ,RecFmt: $01) (V2), T-Mode: $03 (T3), HW: $04 (HydraHarp)\n",
    "#define rtHydraHarp2T2   0x01010204    // (SubID = $01 ,RecFmt: $01) (V2), T-Mode: $02 (T2), HW: $04 (HydraHarp)\n",
    "#define rtTimeHarp260NT3 0x00010305    // (SubID = $00 ,RecFmt: $01) (V2), T-Mode: $03 (T3), HW: $05 (TimeHarp260N)\n",
    "#define rtTimeHarp260NT2 0x00010205    // (SubID = $00 ,RecFmt: $01) (V2), T-Mode: $02 (T2), HW: $05 (TimeHarp260N)\n",
    "#define rtTimeHarp260PT3 0x00010306    // (SubID = $00 ,RecFmt: $01) (V1), T-Mode: $02 (T3), HW: $06 (TimeHarp260P)\n",
    "#define rtTimeHarp260PT2 0x00010206    // (SubID = $00 ,RecFmt: $01) (V1), T-Mode: $02 (T2), HW: $06 (TimeHarp260P)\n",
    "#define rtMultiHarpNT3   0x00010307    // (SubID = $00 ,RecFmt: $01) (V1), T-Mode: $02 (T3), HW: $07 (MultiHarp150N)\n",
    "#define rtMultiHarpNT2   0x00010207    // (SubID = $00 ,RecFmt: $01) (V1), T-Mode: $02 (T2), HW: $07 (MultiHarp150N)\n",
    "```\n",
    "\n",
    "The types of the meta data follows the PTU file convention.\n",
    "\n",
    "```cpp\n",
    "#define tyEmpty8      0xFFFF0008\n",
    "#define tyBool8       0x00000008\n",
    "#define tyInt8        0x10000008\n",
    "#define tyBitSet64    0x11000008\n",
    "#define tyColor8      0x12000008\n",
    "#define tyFloat8      0x20000008\n",
    "#define tyTDateTime   0x21000008\n",
    "#define tyFloat8Array 0x2001FFFF\n",
    "#define tyAnsiString  0x4001FFFF\n",
    "#define tyWideString  0x4002FFFF\n",
    "#define tyBinaryBlob  0xFFFFFFFF\n",
    "```\n",
    "\n",
    "Writing manually correct and functional header files can be tedious. Hence tttrlib\n",
    "offers the option to use header information and headers of other TTTR files.\n",
    "\n",
    "```python\n",
    "import tttrlib\n",
    "data = tttrlib.TTTR('./data/bh/bh_spc132.spc', 'SPC-130')\n",
    "ptu_header = tttrlib.TTTRHeader('./data/pq/pq_ptu_hh_t3.ptu')\n",
    "output = {\n",
    "    'filename': 'spc_data_converted.ptu',\n",
    "    'header': ptu_header\n",
    "}\n",
    "data.write(**output)\n",
    "```\n",
    "\n",
    "\n",
    "> The different TTTR container formats are not fully compatible. Hence, it can\n",
    "happen that certain information that is for instance stored in the header is\n",
    "lost when converting and saving data. For instance, BH 130 SPC files can hold\n",
    "up to 4096 micro time channels, while PQ-PTU files hold up to 32768 micro time\n",
    "channels.\n"
   ]
  },
  {
   "cell_type": "code",
   "execution_count": null,
   "id": "298cf9fa-2a23-4d61-8343-c611f80904d1",
   "metadata": {},
   "outputs": [],
   "source": []
  }
 ],
 "metadata": {
  "kernelspec": {
   "display_name": "Python 3 (ipykernel)",
   "language": "python",
   "name": "python3"
  },
  "language_info": {
   "codemirror_mode": {
    "name": "ipython",
    "version": 3
   },
   "file_extension": ".py",
   "mimetype": "text/x-python",
   "name": "python",
   "nbconvert_exporter": "python",
   "pygments_lexer": "ipython3",
   "version": "3.9.15"
  }
 },
 "nbformat": 4,
 "nbformat_minor": 5
}
