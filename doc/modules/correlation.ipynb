{
 "cells": [
  {
   "cell_type": "markdown",
   "id": "4c18edda-62a1-47e0-8dc6-f0b30567b70b",
   "metadata": {},
   "source": [
    "# Correlators"
   ]
  },
  {
   "cell_type": "markdown",
   "id": "eac3b9a7-1fd9-42a8-8025-9c0ea9b9fb72",
   "metadata": {},
   "source": [
    "The analysis of signals by correlation functions is a common approach to study fluctuations signal time evolutions. \n",
    "Fluorescence correlation spectroscopy (FCS), a relatively old technique, originally introduced by Elson, Magde, and \n",
    "Webb in the early seventies, correlation functions are computed for fluorescence signals and the obtained \n",
    "correlation functions are analyzed to recover kinetic information, e.g. on molecular kinetics or diffusion \n",
    ":cite:`elson201340,Elson1974,magde1972`. \n",
    "\n",
    "The normalized cross-correlation function of the signal $S_A$ and the signal $S_B$ that were registered by \n",
    "channel $A$ and $B$, respectively, is:\n",
    "\n",
    "$$\n",
    "   G_{AB} (t_{c}) = \\frac{\\langle S_A(t) S_B (t+t_c) \\rangle}{\\langle S_A(t) \\rangle \\langle S_B(t) \\rangle}.\n",
    "$$\n",
    "\n",
    "Here, $t$ is the time and $t_c$ is the correlation time (lag time). If $A=B$ then $G_{AB}(t_c)$ is a auto correlation \n",
    "function . If $A \\neq B$ then $G_{AB}(t_c)$ is a cross-correlation function. "
   ]
  },
  {
   "cell_type": "markdown",
   "id": "f9f652a0-da9e-4b4d-b1ca-5627eee10b58",
   "metadata": {},
   "source": [
    "Computed auto (FCS) and cross-correlation functions (FCCS) can be analyzed to derive rate \n",
    "constants of interest. FCS and FCCS can provide a dynamic pattern or “fingerprint” of a probed specimen. \n",
    "FCS can be combined with FRET :cite:`slaughter2004single,torres2007measuring` to cover \n",
    "structural fluctuations over a time range of nanoseconds to seconds and study \n",
    "conformational dynamics of biomolecules, complex formation, folding and catalysis cite:`johnson2006calmodulin,price2011fret,price2010detecting,slaughter2004single,slaughter2005single,slaughter2005conformational,gurunathan2010fret,levitus2010relaxation,al2005fluorescence,torres2007measuring`. Practical aspects of FRET-FCS were reviewed in detail in :cite:`felekyan2013analyzing`.\n",
    "\n"
   ]
  },
  {
   "cell_type": "markdown",
   "id": "36b3b21d-a022-4bf0-92ce-2b77cd2d93a0",
   "metadata": {},
   "source": [
    "`tttrlib` implements fast and accurate algorithms for cross-correlation over \n",
    "arbitrary time lags for photon timestamps registered in an asynchronous \n",
    "photon counting mode. The cross-correlation algorithms are commonly used in physics or \n",
    "biophysics for techniques such as fluorescence correlation spectroscopy (FCS) but can be \n",
    "used for other analysis.\n",
    "\n",
    "The algorithms can handels computing cross-correlation over log-spaced \n",
    "to covering several orders of magnitude for [full correlations](https://aip.scitation.org/doi/10.1063/1.1946088)\n",
    "from picoseconds to seconds. The algorithms are implemented in C/C++ are are outlined in \n",
    "more detail in:\n",
    "\n",
    "* [Wahl et al., Opt.Express](https://opg.optica.org/oe/fulltext.cfm?uri=oe-11-26-3583&id=78223)\n",
    "* [Felekyan et al., Rev.Sci.Inst.(2005)](https://aip.scitation.org/doi/10.1063/1.1946088)\n",
    "* [Laurence et al., Opt.Lett (2006)](https://opg.optica.org/ol/abstract.cfm?uri=ol-31-6-829)\n",
    "\n",
    "\n",
    "The described algorithms were modified to account for arbitrary (non-integer) weights for \n",
    "facilitating the implementation of [lifetime](https://aip.scitation.org/doi/10.1063/1.1863399) or\n",
    "[filtered correlations](https://chemistry-europe.onlinelibrary.wiley.com/doi/10.1002/cphc.201100897).\n",
    "\n",
    "Correlation functions can be analyzed by dedicated open tools \n",
    "such as [ChiSurf](https://github.com/fluorescence-tools/chisurf/), \n",
    "[PyCorrFit](https://github.com/FCS-analysis/PyCorrFit), [PAM](https://github.com/fluorescence-tools/pam),\n",
    "or generic curve analysis software."
   ]
  },
  {
   "cell_type": "markdown",
   "id": "157d1c7e",
   "metadata": {},
   "source": []
  }
 ],
 "metadata": {
  "kernelspec": {
   "display_name": "Python 3 (ipykernel)",
   "language": "python",
   "name": "python3"
  },
  "language_info": {
   "codemirror_mode": {
    "name": "ipython",
    "version": 3
   },
   "file_extension": ".py",
   "mimetype": "text/x-python",
   "name": "python",
   "nbconvert_exporter": "python",
   "pygments_lexer": "ipython3",
   "version": "3.9.15"
  }
 },
 "nbformat": 4,
 "nbformat_minor": 5
}
