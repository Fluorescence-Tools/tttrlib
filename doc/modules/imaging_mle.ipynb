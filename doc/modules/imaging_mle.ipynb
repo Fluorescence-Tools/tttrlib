{
 "cells": [
  {
   "cell_type": "code",
   "execution_count": 1,
   "id": "2de8a663-e26b-4249-ad5b-317938523c45",
   "metadata": {},
   "outputs": [],
   "source": [
    "\"\"\"\n",
    "=================\n",
    "Lifetime analysis\n",
    "=================\n",
    "Fit a decay to photons in pixel to determine a mean fluorescence lifetime.\n",
    "\"\"\"\n",
    "import numpy as np\n",
    "import pylab as plt\n",
    "import tqdm\n",
    "import pandas as pd\n",
    "\n",
    "import tttrlib"
   ]
  },
  {
   "cell_type": "code",
   "execution_count": 2,
   "id": "5a8f15b6-15ae-47a9-988d-603b155a2d31",
   "metadata": {},
   "outputs": [],
   "source": [
    "# %%\n",
    "# The fit operates on a parallel and a perpendicular detection\n",
    "# channel. Here we define the channel numbers of the two channels\n",
    "# and read the tttr data of the clsm experiment. Moreover, we define\n",
    "# a binning factor that is used to coarsen the micro time.\n",
    "ch_p = [0]\n",
    "ch_s = [1]\n",
    "binning_factor = 128\n",
    "minimum_n_photons = 10\n",
    "\n",
    "fn_clsm = './tttr-data/imaging/pq/ht3/crn_clv_img.ht3'\n",
    "data = tttrlib.TTTR(fn_clsm)"
   ]
  },
  {
   "cell_type": "code",
   "execution_count": 3,
   "id": "05338637-caf6-4591-b0c0-328b20f63135",
   "metadata": {},
   "outputs": [],
   "source": [
    "# %%\n",
    "# Next we create two CLSM container for the parallel and perpendicular\n",
    "# channel and stack frames to have more photons in each pixels.\n",
    "clsm_p = tttrlib.CLSMImage(data, channels=ch_p, fill=True)\n",
    "clsm_s = tttrlib.CLSMImage(data, channels=ch_s, fill=True)"
   ]
  },
  {
   "cell_type": "code",
   "execution_count": 4,
   "id": "9a273179-107a-41fb-b920-ab6a86df6e51",
   "metadata": {},
   "outputs": [
    {
     "data": {
      "text/plain": [
       "tttrlib.TTTR(\"/home/tpeulen/dev/tttrlib/tttr-data/imaging/pq/ht3/crn_clv_img.ht3\", \"HT3\")"
      ]
     },
     "execution_count": 4,
     "metadata": {},
     "output_type": "execute_result"
    }
   ],
   "source": [
    "clsm_p.tttr"
   ]
  },
  {
   "cell_type": "code",
   "execution_count": 5,
   "id": "889fb9c1-aaf5-46d8-999d-38787972cfd7",
   "metadata": {},
   "outputs": [],
   "source": [
    "# %%\n",
    "# We determine instrument response function in parallel and perpendicular\n",
    "# detection channels.\n",
    "fn_irf = './tttr-data/imaging/pq/ht3/crn_clv_mirror.ht3'\n",
    "irf_tttr = tttrlib.TTTR(fn_irf)\n",
    "irf_data_p: tttrlib.TTTR = irf_tttr[irf_tttr.get_selection_by_channel(ch_p)]\n",
    "irf_data_s: tttrlib.TTTR = irf_tttr[irf_tttr.get_selection_by_channel(ch_s)]"
   ]
  },
  {
   "cell_type": "code",
   "execution_count": 6,
   "id": "0b3b0de5-aef1-4d9c-9731-5d6e37f91ef5",
   "metadata": {},
   "outputs": [],
   "source": [
    "# %%\n",
    "# We get micro time histograms for the IRF and stack the histograms\n",
    "irf_p, t = irf_data_p.get_microtime_histogram(binning_factor)\n",
    "irf_s, _ = irf_data_s.get_microtime_histogram(binning_factor)\n",
    "irf = np.hstack([irf_p, irf_s])"
   ]
  },
  {
   "cell_type": "code",
   "execution_count": 7,
   "id": "995db4fc-5aa4-4410-86d4-db8106ef92f8",
   "metadata": {},
   "outputs": [],
   "source": [
    "# %%\n",
    "# The settings are used to initialize an instance of the class ``Fit23``. A dataset\n",
    "# is fitted by calling an instance of ``Fit23`` using the data, an array of the initial\n",
    "# values of the fitting parameters, and an array that specifies which parameters are\n",
    "# fixed.\n",
    "\n",
    "settings = {\n",
    "    'dt': data.header.micro_time_resolution * 1e9 * binning_factor,\n",
    "    'g_factor': 1.0, 'l1': 0.05, 'l2': 0.05,\n",
    "    'convolution_stop': -1,\n",
    "    'irf': irf,\n",
    "    'period': 32.0,\n",
    "    'background': np.zeros_like(irf)\n",
    "}\n",
    "\n",
    "fit23 = tttrlib.Fit23(**settings)\n",
    "tau, gamma, r0, rho = 1.2, 0.02, 0.38, 10.0\n",
    "x0 = np.array([tau, gamma, r0, rho])\n",
    "fixed = np.array([0, 0, 1, 1])"
   ]
  },
  {
   "cell_type": "code",
   "execution_count": 8,
   "id": "bd805bfb-c386-489c-bef6-25337a00c431",
   "metadata": {},
   "outputs": [
    {
     "data": {
      "text/plain": [
       "tttrlib.CLSMImage(40, 256, 256)"
      ]
     },
     "execution_count": 8,
     "metadata": {},
     "output_type": "execute_result"
    }
   ],
   "source": [
    "clsm_p"
   ]
  },
  {
   "cell_type": "code",
   "execution_count": 9,
   "id": "77a4e0bc-b3d5-450a-8b79-493aee932858",
   "metadata": {},
   "outputs": [
    {
     "name": "stdout",
     "output_type": "stream",
     "text": [
      "[1552, 1643]\n",
      "1552 1643\n"
     ]
    }
   ],
   "source": [
    "l = clsm_p[0][0]\n",
    "print(list(l.start_stop))\n",
    "start = l.tttr_indices[0]\n",
    "stop = l.tttr_indices[-1]\n",
    "print(start, stop)"
   ]
  },
  {
   "cell_type": "code",
   "execution_count": 10,
   "id": "e0ff5455-1a5d-4f00-9b34-3617063d5dff",
   "metadata": {},
   "outputs": [
    {
     "data": {
      "text/plain": [
       "[1552, 1643]"
      ]
     },
     "execution_count": 10,
     "metadata": {},
     "output_type": "execute_result"
    }
   ],
   "source": [
    "list(l.tttr_indices)"
   ]
  },
  {
   "cell_type": "code",
   "execution_count": 11,
   "id": "5a4f2967-e48f-413e-846d-1f7069e3151a",
   "metadata": {},
   "outputs": [
    {
     "data": {
      "text/plain": [
       "44874881"
      ]
     },
     "execution_count": 11,
     "metadata": {},
     "output_type": "execute_result"
    }
   ],
   "source": [
    "clsm_p.tttr.macro_times[l.start]"
   ]
  },
  {
   "cell_type": "code",
   "execution_count": 12,
   "id": "bfa4092d-0d50-4bab-80c4-adb16b6324d1",
   "metadata": {},
   "outputs": [
    {
     "data": {
      "text/plain": [
       "5.119636359193172"
      ]
     },
     "execution_count": 12,
     "metadata": {},
     "output_type": "execute_result"
    }
   ],
   "source": [
    "px = clsm_p[0][0][0]\n",
    "clsm_p.get_line_duration(0, 0)"
   ]
  },
  {
   "cell_type": "code",
   "execution_count": 13,
   "id": "be9ac38a-f519-4fd8-84bd-c3fc6ad1af24",
   "metadata": {},
   "outputs": [
    {
     "data": {
      "text/plain": [
       "45038709"
      ]
     },
     "execution_count": 13,
     "metadata": {},
     "output_type": "execute_result"
    }
   ],
   "source": [
    "clsm_p.tttr.macro_times[stop]"
   ]
  },
  {
   "cell_type": "code",
   "execution_count": 14,
   "id": "6a627e3d-4049-4c06-8432-e7f75daba65f",
   "metadata": {},
   "outputs": [
    {
     "data": {
      "text/plain": [
       "44874881"
      ]
     },
     "execution_count": 14,
     "metadata": {},
     "output_type": "execute_result"
    }
   ],
   "source": [
    "clsm_p.tttr.macro_times[start]"
   ]
  },
  {
   "cell_type": "code",
   "execution_count": 15,
   "id": "17e22a8d-bee5-423a-9317-784704951252",
   "metadata": {},
   "outputs": [
    {
     "data": {
      "text/plain": [
       "0.019998579528098328"
      ]
     },
     "execution_count": 15,
     "metadata": {},
     "output_type": "execute_result"
    }
   ],
   "source": [
    "clsm_p.pixel_duration"
   ]
  },
  {
   "cell_type": "code",
   "execution_count": 16,
   "id": "98019cd5-2ebe-4d0d-a7af-2061f2230515",
   "metadata": {},
   "outputs": [
    {
     "data": {
      "text/plain": [
       "163828"
      ]
     },
     "execution_count": 16,
     "metadata": {},
     "output_type": "execute_result"
    }
   ],
   "source": [
    "data.macro_times[stop] - data.macro_times[start]"
   ]
  },
  {
   "cell_type": "code",
   "execution_count": 17,
   "id": "cb114994-1feb-4db0-a7ce-479b093e0969",
   "metadata": {},
   "outputs": [
    {
     "data": {
      "text/plain": [
       "0.019998579528098328"
      ]
     },
     "execution_count": 17,
     "metadata": {},
     "output_type": "execute_result"
    }
   ],
   "source": [
    "(data.macro_times[stop] - data.macro_times[start]) * data.header.macro_time_resolution * 1000.0 / 256"
   ]
  },
  {
   "cell_type": "code",
   "execution_count": 18,
   "id": "f1fb52b9-1d13-4bdc-80cb-912f546272f4",
   "metadata": {},
   "outputs": [
    {
     "data": {
      "text/plain": [
       "3.125006933609134e-08"
      ]
     },
     "execution_count": 18,
     "metadata": {},
     "output_type": "execute_result"
    }
   ],
   "source": [
    "data.header.macro_time_resolution"
   ]
  },
  {
   "cell_type": "code",
   "execution_count": 19,
   "id": "d0fd31e7-5883-4882-b4d5-848a8924ae78",
   "metadata": {},
   "outputs": [
    {
     "data": {
      "text/plain": [
       "5.119636359193172"
      ]
     },
     "execution_count": 19,
     "metadata": {},
     "output_type": "execute_result"
    }
   ],
   "source": [
    "data.header.get_pixel_duration()\n",
    "clsm_p.line_duration"
   ]
  },
  {
   "cell_type": "code",
   "execution_count": 17,
   "id": "7bb84e48-c27b-45e9-8879-5dbf21551515",
   "metadata": {},
   "outputs": [],
   "source": [
    "df_pg4 = pd.DataFrame()"
   ]
  },
  {
   "cell_type": "code",
   "execution_count": 7,
   "id": "e6cf5f31-3a4d-4f03-9cd4-f964d0efca2b",
   "metadata": {},
   "outputs": [
    {
     "name": "stderr",
     "output_type": "stream",
     "text": [
      "100%|██████████| 40/40 [00:56<00:00,  1.42s/it]\n"
     ]
    }
   ],
   "source": [
    "# %%\n",
    "# We iterate over all pixels in the image and apply the fit to\n",
    "# pixels where we have at certain minimum number of photons\n",
    "n_frames, n_lines, n_pixel = clsm_p.shape\n",
    "tau = np.zeros(clsm_p.shape, dtype=np.float32)\n",
    "n_frames, n_lines, n_pixel = clsm_p.shape\n",
    "for f in tqdm.tqdm(range(n_frames)):\n",
    "    for y in range(0, n_lines):\n",
    "        for c in range(n_pixel):\n",
    "            Ng_p_all = clsm_p[f][y][x].size()\n",
    "            Ng_s_all = clsm_s[f][y][x].size()\n",
    "            Ng_all = Ng_p_all + Ng_s_all\n",
    "            if Ng_all > minimum_n_photons:\n",
    "                hist = np.hstack(\n",
    "                    [\n",
    "                        clsm_p[i][j][k].get_microtime_histogram(data, binning_factor)[0], \n",
    "                        clsm_s[i][j][k].get_microtime_histogram(data, binning_factor)[0]\n",
    "                    ]\n",
    "                )\n",
    "                r = fit23(hist, x0, fixed)\n",
    "            tau[i, j, k] = r['x'][0]\n",
    "            pg4_row = {\n",
    "                \"Frame\": f, \n",
    "                \"Pixel Number\": y * n_lines + x, \n",
    "                \"Y pixel\": y, \n",
    "                \"X pixel\": x, \n",
    "                \"Green Count Rate (KHz)\": , \n",
    "                \"Number of Photons (green)\": Ng_all, \n",
    "                \"Number of Photons (fit window) (green)\": Ng_all,\n",
    "                \"tau (green)\": r['x'][0],\n",
    "                \"gamma (green)\": r['x'][1],\n",
    "                \"r0 (green)\": r['x'][2],\n",
    "                \"rho (green)\": r['x'][3],\n",
    "                \"BIFL scatter fit? (green)\": r['x'][4],\n",
    "                \"2I*: P+2S? (green)\": r['x'][5],\n",
    "                \"rS (green)\": r['x'][6],\n",
    "                \"rE (green)\": r['x'][7],\n",
    "                \"2I* (green)\": r['twoIstar'],\n",
    "                \"Ng-p-all\": Ng_p_all,\n",
    "                \"Ng-s-all\": Ng_s_all,\n",
    "                \"Ng-all\": Ng_all\n",
    "            }\n",
    "            df_pg4.append(pg4_row)"
   ]
  },
  {
   "cell_type": "code",
   "execution_count": 25,
   "id": "7f204f9b-8f31-4ead-a52f-dabd161c768a",
   "metadata": {},
   "outputs": [
    {
     "data": {
      "text/plain": [
       "array([ 2.98324177,  0.        ,  0.38      , 10.        , -1.        ,\n",
       "        0.        , -0.28818444, -0.28818444])"
      ]
     },
     "execution_count": 25,
     "metadata": {},
     "output_type": "execute_result"
    }
   ],
   "source": [
    "r['x']"
   ]
  },
  {
   "cell_type": "code",
   "execution_count": 8,
   "id": "9e1b559f-3efe-4c4f-9247-6db18a9469b4",
   "metadata": {},
   "outputs": [],
   "source": [
    "# %%\n",
    "# Plot for the last fit result the data and the optimized model"
   ]
  },
  {
   "cell_type": "code",
   "execution_count": 9,
   "id": "350939f3-90f3-4428-bdd2-1a295ffc90dd",
   "metadata": {},
   "outputs": [
    {
     "name": "stderr",
     "output_type": "stream",
     "text": [
      "/opt/tljh/user/lib/python3.9/site-packages/numpy/core/getlimits.py:500: UserWarning: The value of the smallest subnormal for <class 'numpy.float64'> type is zero.\n",
      "  setattr(self, word, getattr(machar, word).flat[0])\n",
      "/opt/tljh/user/lib/python3.9/site-packages/numpy/core/getlimits.py:89: UserWarning: The value of the smallest subnormal for <class 'numpy.float64'> type is zero.\n",
      "  return self._float_to_str(self.smallest_subnormal)\n"
     ]
    },
    {
     "data": {
      "text/plain": [
       "<matplotlib.legend.Legend at 0x7f9b4a8cbd00>"
      ]
     },
     "execution_count": 9,
     "metadata": {},
     "output_type": "execute_result"
    },
    {
     "data": {
      "image/png": "[encoded data removed]",
      "text/plain": [
       "<Figure size 640x480 with 1 Axes>"
      ]
     },
     "metadata": {},
     "output_type": "display_data"
    }
   ],
   "source": [
    "plt.semilogy(hist, label=\"Data\")\n",
    "plt.semilogy(fit23.model, label=\"Model\")\n",
    "plt.legend()"
   ]
  },
  {
   "cell_type": "code",
   "execution_count": 10,
   "id": "7819b172-3a9e-4d34-80cc-305d2d7ed939",
   "metadata": {},
   "outputs": [],
   "source": [
    "# %%\n",
    "# Histogram over lifetimes"
   ]
  },
  {
   "cell_type": "code",
   "execution_count": 11,
   "id": "5ec4b0b7-8c69-49b2-84ca-2db0b5160eb7",
   "metadata": {},
   "outputs": [
    {
     "data": {
      "image/png": "[encoded data removed]",
      "text/plain": [
       "<Figure size 640x480 with 1 Axes>"
      ]
     },
     "metadata": {},
     "output_type": "display_data"
    }
   ],
   "source": [
    "plt.hist(tau.flatten(), 131, range=(0.01, 5))\n",
    "plt.show()"
   ]
  },
  {
   "cell_type": "code",
   "execution_count": 12,
   "id": "cc1dd243-1562-4d2b-a586-6c79182794b6",
   "metadata": {},
   "outputs": [
    {
     "data": {
      "image/png": "[encoded data removed]",
      "text/plain": [
       "<Figure size 640x480 with 1 Axes>"
      ]
     },
     "metadata": {},
     "output_type": "display_data"
    }
   ],
   "source": [
    "plt.imshow(tau.mean(axis=0), vmin=0.1, vmax=4.0)\n",
    "plt.show()"
   ]
  },
  {
   "cell_type": "code",
   "execution_count": null,
   "id": "afe99cca-879f-4ed7-b3f9-fb737af39f07",
   "metadata": {},
   "outputs": [],
   "source": []
  }
 ],
 "metadata": {
  "kernelspec": {
   "display_name": "Python 3 (ipykernel)",
   "language": "python",
   "name": "python3"
  },
  "language_info": {
   "codemirror_mode": {
    "name": "ipython",
    "version": 3
   },
   "file_extension": ".py",
   "mimetype": "text/x-python",
   "name": "python",
   "nbconvert_exporter": "python",
   "pygments_lexer": "ipython3",
   "version": "3.9.15"
  }
 },
 "nbformat": 4,
 "nbformat_minor": 5
}
