{
 "cells": [
  {
   "cell_type": "markdown",
   "id": "a570fc5e-7f0c-4d9d-8c5c-57b4cc49c481",
   "metadata": {},
   "source": [
    "Fluorescence correlation spectroscopy\n",
    "====================================="
   ]
  },
  {
   "cell_type": "markdown",
   "id": "162e8df5-49ba-4505-9d0c-eed8671f4839",
   "metadata": {},
   "source": [
    "Basics\n",
    "------\n"
   ]
  }
 ],
 "metadata": {
  "kernelspec": {
   "display_name": "Python 3 (ipykernel)",
   "language": "python",
   "name": "python3"
  },
  "language_info": {
   "codemirror_mode": {
    "name": "ipython",
    "version": 3
   },
   "file_extension": ".py",
   "mimetype": "text/x-python",
   "name": "python",
   "nbconvert_exporter": "python",
   "pygments_lexer": "ipython3",
   "version": "3.9.15"
  }
 },
 "nbformat": 4,
 "nbformat_minor": 5
}
